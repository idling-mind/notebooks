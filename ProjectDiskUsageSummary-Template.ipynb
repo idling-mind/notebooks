{
 "cells": [
  {
   "cell_type": "code",
   "execution_count": null,
   "metadata": {
    "collapsed": true
   },
   "outputs": [],
   "source": [
    "from IPython.display import HTML\n",
    "\n",
    "HTML('''<script>\n",
    "code_show=true; \n",
    "function code_toggle() {\n",
    " if (code_show){\n",
    " $('div.input').hide();\n",
    " } else {\n",
    " $('div.input').show();\n",
    " }\n",
    " code_show = !code_show\n",
    "} \n",
    "$( document ).ready(code_toggle);\n",
    "</script>\n",
    "<form action=\"javascript:code_toggle()\"><input type=\"submit\" value=\"Click here to toggle on/off the raw code.\"></form>''')"
   ]
  },
  {
   "cell_type": "code",
   "execution_count": null,
   "metadata": {
    "collapsed": true
   },
   "outputs": [],
   "source": [
    "# This is a template notebook for extracting the project disk summary. To run this, do the following.\n",
    "\n",
    "# 1. Set an environment variable called PROJECT and set it to the project name that you want to study.\n",
    "# 2. Go to the terminal and run `jupyter-nbconvert --ExecutePreprocessor.timeout=-1 --execute ProjectDiskSummary-Template.ipynb`\n",
    "\n",
    "# Please note that extracting the disk info using 'find' command works only in linux. If you are in windows, you'll have to\n",
    "# generate that file outside of this notebook."
   ]
  },
  {
   "cell_type": "code",
   "execution_count": null,
   "metadata": {
    "collapsed": true
   },
   "outputs": [],
   "source": [
    "import os\n",
    "import time\n",
    "import pandas as pd\n",
    "import subprocess\n",
    "import matplotlib.pyplot as plt\n",
    "from IPython.core.display import display, HTML"
   ]
  },
  {
   "cell_type": "code",
   "execution_count": null,
   "metadata": {
    "collapsed": true
   },
   "outputs": [],
   "source": [
    "os.environ['PROJECT']= 'PW1000G_IMC_VAI'"
   ]
  },
  {
   "cell_type": "code",
   "execution_count": null,
   "metadata": {
    "collapsed": true,
    "scrolled": true
   },
   "outputs": [],
   "source": [
    "project = os.environ['PROJECT']"
   ]
  },
  {
   "cell_type": "code",
   "execution_count": null,
   "metadata": {
    "collapsed": true
   },
   "outputs": [],
   "source": [
    "folder_path = '/project/{}'.format(project)"
   ]
  },
  {
   "cell_type": "code",
   "execution_count": null,
   "metadata": {
    "collapsed": true
   },
   "outputs": [],
   "source": [
    "%matplotlib inline"
   ]
  },
  {
   "cell_type": "code",
   "execution_count": null,
   "metadata": {
    "collapsed": true
   },
   "outputs": [],
   "source": [
    "## Some useful functions"
   ]
  },
  {
   "cell_type": "code",
   "execution_count": null,
   "metadata": {
    "collapsed": true
   },
   "outputs": [],
   "source": [
    "# Function to display text in large size\n",
    "def shout(message, size='h1', color='black', css=\"\"):\n",
    "    return display(HTML('<{0} style=\"color:{2};{3}\">{1}</{0}>'.format(size, message, color, css)))\n",
    "\n",
    "# Funciton to return the username from userid\n",
    "import pwd\n",
    "def finger(id):\n",
    "    try:\n",
    "        return pwd.getpwuid(int(id)).pw_gecos\n",
    "    except:\n",
    "        return 'yy' + str(id)\n",
    "    \n",
    "#increase the field width\n",
    "pd.set_option('display.max_colwidth',-1)"
   ]
  },
  {
   "cell_type": "code",
   "execution_count": null,
   "metadata": {},
   "outputs": [],
   "source": [
    "shout(\n",
    "    \"Project disk summary for {}\".format(\n",
    "        folder_path), \n",
    "    color=\"grey\", \n",
    "    size=\"h1\")"
   ]
  },
  {
   "cell_type": "markdown",
   "metadata": {},
   "source": [
    "Any questions, contact [Najeem Muhammed](mailto:najeem.muhammed@gknaerospace.com)"
   ]
  },
  {
   "cell_type": "code",
   "execution_count": null,
   "metadata": {
    "collapsed": true
   },
   "outputs": [],
   "source": [
    "## Generating the file list"
   ]
  },
  {
   "cell_type": "code",
   "execution_count": null,
   "metadata": {
    "collapsed": true
   },
   "outputs": [],
   "source": [
    "out_file = os.path.abspath('/project/nobackup/Shared_VAI/DiskSpaceSummary/files_list_{}.out'.format(project))"
   ]
  },
  {
   "cell_type": "code",
   "execution_count": null,
   "metadata": {
    "scrolled": true
   },
   "outputs": [],
   "source": [
    "shout(\n",
    "    \"Generating the file data for analysis for all files in folder {}........\".format(\n",
    "        folder_path), \n",
    "    color=\"grey\", \n",
    "    size=\"h3\")"
   ]
  },
  {
   "cell_type": "code",
   "execution_count": null,
   "metadata": {
    "collapsed": true
   },
   "outputs": [],
   "source": [
    "%%time\n",
    "# The following command works only in linux\n",
    "!cd $folder_path; find -printf '%h|%f|%s|%U|%a|%t|%d|%S|%y\\n' >$out_file 2>/dev/null"
   ]
  },
  {
   "cell_type": "code",
   "execution_count": null,
   "metadata": {
    "collapsed": true
   },
   "outputs": [],
   "source": [
    "## Reading the Data"
   ]
  },
  {
   "cell_type": "code",
   "execution_count": null,
   "metadata": {
    "collapsed": true
   },
   "outputs": [],
   "source": [
    "files = pd.read_csv(out_file, sep='|', header=None, low_memory=False)"
   ]
  },
  {
   "cell_type": "code",
   "execution_count": null,
   "metadata": {
    "collapsed": true
   },
   "outputs": [],
   "source": [
    "files = files.dropna()"
   ]
  },
  {
   "cell_type": "code",
   "execution_count": null,
   "metadata": {
    "collapsed": true
   },
   "outputs": [],
   "source": [
    "## Setting the dataframe columns"
   ]
  },
  {
   "cell_type": "code",
   "execution_count": null,
   "metadata": {
    "collapsed": true
   },
   "outputs": [],
   "source": [
    "files.columns = ['Folder', 'File', 'Size', 'User', 'DateAccessed', 'DateModified', 'Depth', 'Sparseness', 'ItemType']"
   ]
  },
  {
   "cell_type": "code",
   "execution_count": null,
   "metadata": {
    "collapsed": true
   },
   "outputs": [],
   "source": [
    "## Converting the date from string to date objects"
   ]
  },
  {
   "cell_type": "code",
   "execution_count": null,
   "metadata": {
    "collapsed": true
   },
   "outputs": [],
   "source": [
    "files.DateAccessed = pd.to_datetime(files.DateAccessed)\n",
    "files.DateModified = pd.to_datetime(files.DateModified)"
   ]
  },
  {
   "cell_type": "code",
   "execution_count": null,
   "metadata": {
    "collapsed": true
   },
   "outputs": [],
   "source": [
    "## Converting the size from bytes to Gbs"
   ]
  },
  {
   "cell_type": "code",
   "execution_count": null,
   "metadata": {
    "collapsed": true
   },
   "outputs": [],
   "source": [
    "files.Size = files.Size.apply(lambda x: round(x/2**30, 2))"
   ]
  },
  {
   "cell_type": "code",
   "execution_count": null,
   "metadata": {
    "collapsed": true
   },
   "outputs": [],
   "source": [
    "## Finding the username from user ID"
   ]
  },
  {
   "cell_type": "code",
   "execution_count": null,
   "metadata": {
    "collapsed": true
   },
   "outputs": [],
   "source": [
    "files[\"UserName\"] = files.User.apply(finger)"
   ]
  },
  {
   "cell_type": "code",
   "execution_count": null,
   "metadata": {
    "collapsed": true
   },
   "outputs": [],
   "source": [
    "## Finding the project folder and file extension"
   ]
  },
  {
   "cell_type": "code",
   "execution_count": null,
   "metadata": {
    "collapsed": true,
    "scrolled": true
   },
   "outputs": [],
   "source": [
    "files[\"Type\"] = files.File.apply(lambda x: os.path.splitext(x)[-1])"
   ]
  },
  {
   "cell_type": "code",
   "execution_count": null,
   "metadata": {
    "collapsed": true
   },
   "outputs": [],
   "source": [
    "## New field to show the access/modified months only"
   ]
  },
  {
   "cell_type": "code",
   "execution_count": null,
   "metadata": {
    "collapsed": true,
    "scrolled": false
   },
   "outputs": [],
   "source": [
    "files[\"Junk\"] = False\n",
    "# File extensions which are usually junk files\n",
    "files.loc[files.Type.str.lower().isin([\".esav\", \".osav\", \".emat\", \".page\", \".dbb\", \".full\", '.dab', '.cmf']), [\"Junk\"]] = True\n",
    "# File that are 6 characters long and with mixed case\n",
    "files.loc[(files.Type.str.contains(\"[A-Z]\", regex=True)) & (files.Type.apply(lambda x: len(x) == 7)), [\"Junk\"]] = True\n",
    "# Files which are backup files\n",
    "files.loc[files.Type.str.contains(\"~\"), [\"Junk\"]] = True\n",
    "# Files which are backup files\n",
    "files.loc[files.Type.str.contains(\"ansabort.db\"), [\"Junk\"]] = True\n",
    "# Files which are backup files\n",
    "files.loc[files.Type.str.contains(\"delete\"), [\"Junk\"]] = True\n",
    "# File extensions that are too long\n",
    "files.loc[files.Type.apply(lambda x: len(x) > 10), [\"Junk\"]] = True\n",
    "# LN files\n",
    "files.loc[files.Type.str.lower().str.contains('ln[0-9]+', regex=True), [\"Junk\"]] = True\n",
    "# LN files\n",
    "files.loc[files.Type.str.lower().str.contains('pc[0-9]+', regex=True), [\"Junk\"]] = True\n",
    "# Nonlinear diagnostics files\n",
    "files.loc[files.Type.str.lower().str.contains('nr[0-9]+', regex=True), [\"Junk\"]] = True"
   ]
  },
  {
   "cell_type": "code",
   "execution_count": null,
   "metadata": {},
   "outputs": [],
   "source": [
    "fcount = files.Size.count()\n",
    "fsize = files.Size.sum()\n",
    "shout(\"{} files with a total size of {} Gb\".format(fcount, round(fsize, 1)))"
   ]
  },
  {
   "cell_type": "code",
   "execution_count": null,
   "metadata": {},
   "outputs": [],
   "source": [
    "shout(\"10 Largest files\")\n",
    "files.nlargest(10, columns=[\"Size\"])[[\"Size\", \"File\", \"Folder\"]]"
   ]
  },
  {
   "cell_type": "code",
   "execution_count": null,
   "metadata": {},
   "outputs": [],
   "source": [
    "shout(\"Largest Folders (Size)\")\n",
    "files.groupby('Folder').Size.sum().nlargest(20).to_frame()"
   ]
  },
  {
   "cell_type": "code",
   "execution_count": null,
   "metadata": {},
   "outputs": [],
   "source": [
    "big_folders = list(files.groupby('Folder').Size.sum().nlargest(20).index)\n",
    "files[files.Folder.isin(big_folders)].groupby(\"Folder\").Size.sum().plot(kind='bar', figsize = (16, 5))"
   ]
  },
  {
   "cell_type": "code",
   "execution_count": null,
   "metadata": {
    "scrolled": false
   },
   "outputs": [],
   "source": [
    "shout(\"Disk Usage by User\")\n",
    "ax = files.groupby('UserName').Size.sum().plot(kind='barh', grid=True, figsize=(16,len(files.User.unique())/3))\n",
    "ax.set_xlabel(\"File size (Gb)\");"
   ]
  },
  {
   "cell_type": "code",
   "execution_count": null,
   "metadata": {
    "scrolled": false
   },
   "outputs": [],
   "source": [
    "topjunkcount = 50\n",
    "shout(\"{} Largest junk files\".format(topjunkcount))\n",
    "topjunk = files[files.Junk].nlargest(topjunkcount, \"Size\")\n",
    "shout(\"Total size : {}\".format(round(topjunk.Size.sum(),1)))\n",
    "topjunk"
   ]
  },
  {
   "cell_type": "code",
   "execution_count": null,
   "metadata": {
    "scrolled": false
   },
   "outputs": [],
   "source": [
    "junks = files[files.Junk]\n",
    "if len(junks):\n",
    "    shout(\"Possible Junk Files, per user (Size)\")\n",
    "    junks.groupby(\"UserName\").Size.sum().plot(kind='barh', grid=True, figsize=(16,len(junks.User.unique())))\n",
    "    ax.set_xlabel(\"File size (Gb)\");\n",
    "else:\n",
    "    shout(\"Hurray! No Junk Files!!\")"
   ]
  },
  {
   "cell_type": "code",
   "execution_count": null,
   "metadata": {
    "scrolled": false
   },
   "outputs": [],
   "source": [
    "shout(\"Disk Usage by major file type (Size)\")\n",
    "ax = files.groupby('Type').Size.sum().nlargest(10).plot(kind='barh', grid=True, figsize=(16,10))\n",
    "ax.set_xlabel(\"File size (Gb)\");"
   ]
  },
  {
   "cell_type": "code",
   "execution_count": null,
   "metadata": {},
   "outputs": [],
   "source": [
    "shout(\"Files Last Accessed Date (Size)\")\n",
    "ax = files.set_index(\"DateAccessed\").resample('M').sum().Size.plot(drawstyle='steps', figsize=(16,5))\n",
    "ax.set_xlabel(\"Date\");"
   ]
  },
  {
   "cell_type": "code",
   "execution_count": null,
   "metadata": {
    "scrolled": false
   },
   "outputs": [],
   "source": [
    "shout(\"Files Last Accessed time by type\")\n",
    "large_types = list(files.groupby(\"Type\").Size.sum().nlargest(10).index)\n",
    "files[files.Type.isin(large_types)].groupby(\n",
    "    by=[files.DateAccessed.dt.to_period('M'), 'Type']\n",
    "        ).Size.sum().unstack(level=1).plot(kind='bar', figsize=(16,5), stacked=True);"
   ]
  },
  {
   "cell_type": "code",
   "execution_count": null,
   "metadata": {
    "scrolled": false
   },
   "outputs": [],
   "source": [
    "shout(\"Files last access times, grouped by Owner (Size)\")\n",
    "df = files.groupby(\n",
    "    by=[files.DateAccessed.dt.to_period('M'), 'UserName']\n",
    "        ).Size.sum().unstack(level=1).fillna(0)\n",
    "for plot in df.plot(drawstyle=\"steps\", figsize=(16,len(df.columns)*3), subplots=True, sharex=False, ):\n",
    "    plot.set_title(\"\")\n",
    "plt.tight_layout()"
   ]
  },
  {
   "cell_type": "code",
   "execution_count": null,
   "metadata": {},
   "outputs": [],
   "source": [
    "shout(\"Files Modified Date (Size)\")\n",
    "ax = files.groupby(files.DateModified.dt.to_period('M')).Size.sum().plot(drawstyle='steps', figsize=(16,5))\n",
    "ax.set_xlabel(\"Date (Year-Month)\");"
   ]
  },
  {
   "cell_type": "code",
   "execution_count": null,
   "metadata": {
    "scrolled": false
   },
   "outputs": [],
   "source": [
    "shout(\"Files Modified time by type (Size)\")\n",
    "large_types = list(files.groupby(\"Type\").Size.sum().nlargest(10).index)\n",
    "files[files.Type.isin(large_types)].groupby(\n",
    "    by=[files.DateModified.dt.to_period('M'), 'Type']\n",
    "        ).Size.sum().unstack(level=1).plot(kind='area', figsize=(16,5), stacked=True);"
   ]
  },
  {
   "cell_type": "code",
   "execution_count": null,
   "metadata": {
    "scrolled": false
   },
   "outputs": [],
   "source": [
    "shout(\"Files Modified grouped by Owner\")\n",
    "df = files.groupby(\n",
    "    by=[files.DateModified.dt.to_period('M'), 'UserName']\n",
    "        ).Size.sum().unstack(level=1).fillna(0)\n",
    "for plot in df.plot(drawstyle=\"steps\", figsize=(16,len(df.columns)*3), subplots=True, sharex=False, ):\n",
    "    plot.set_title(\"\")\n",
    "plt.tight_layout()"
   ]
  },
  {
   "cell_type": "code",
   "execution_count": null,
   "metadata": {},
   "outputs": [],
   "source": [
    "shout(\"Files Modified time during a day\")\n",
    "ax = files.DateModified.dt.hour.value_counts().sort_index().reindex(range(24)).plot(drawstyle=\"steps\", figsize=(16,5))\n",
    "ax.set_xlabel(\"Modified hour\");"
   ]
  },
  {
   "cell_type": "code",
   "execution_count": null,
   "metadata": {},
   "outputs": [],
   "source": [
    "shout(\"Who fires run when? (RST file creation time in a day)\")\n",
    "ax = files[files.Type == '.rst'].groupby(by=[files.DateModified.dt.hour, 'UserName']).Size.count().unstack(level=1).plot(kind='bar', stacked=True, figsize=(16, 5))\n",
    "ax.set_xlabel(\"Modified hour\");\n",
    "ax.legend(loc=9, bbox_to_anchor=(0.5, -0.15), ncol=6);"
   ]
  },
  {
   "cell_type": "code",
   "execution_count": null,
   "metadata": {},
   "outputs": [],
   "source": [
    "shout(\"File access time during the day (count)\")\n",
    "ax = files[files.Type == '.rst'].groupby(by=[files.DateAccessed.dt.hour, 'UserName']).Size.count().unstack(level=1).plot(kind='bar', stacked=True, figsize=(16, 5))\n",
    "ax.set_xlabel(\"Accessed hour\");\n",
    "ax.legend(loc=9, bbox_to_anchor=(0.5, -0.15), ncol=6);"
   ]
  },
  {
   "cell_type": "code",
   "execution_count": null,
   "metadata": {
    "scrolled": false
   },
   "outputs": [],
   "source": [
    "shout(\"File types and Users (Size)\")\n",
    "ax = files[files.Size > 1].groupby(by=['Type', 'UserName']).Size.sum().unstack(level=1).plot(kind='bar', stacked=True, figsize=(16, 5))\n",
    "ax.set_xlabel(\"Type\");\n",
    "ax.legend(loc=9, bbox_to_anchor=(0.5, -0.15), ncol=6);"
   ]
  },
  {
   "cell_type": "code",
   "execution_count": null,
   "metadata": {},
   "outputs": [],
   "source": [
    "shout(\"Run time of each *.rst file\")"
   ]
  },
  {
   "cell_type": "code",
   "execution_count": null,
   "metadata": {
    "collapsed": true
   },
   "outputs": [],
   "source": [
    "import numpy as np"
   ]
  },
  {
   "cell_type": "code",
   "execution_count": null,
   "metadata": {
    "collapsed": true
   },
   "outputs": [],
   "source": [
    "def runtime(outfile):\n",
    "    found=False\n",
    "    for line in open(outfile, \"rb\"):\n",
    "        if b\"Elapsed Time (sec)\" in line:\n",
    "            for t in line.split():\n",
    "                try:\n",
    "                    time=float(t)                    \n",
    "                    found=True\n",
    "                    break\n",
    "                except ValueError:\n",
    "                    pass\n",
    "    if found:\n",
    "        return time\n",
    "    else:\n",
    "        return np.nan"
   ]
  },
  {
   "cell_type": "code",
   "execution_count": null,
   "metadata": {
    "collapsed": true,
    "scrolled": false
   },
   "outputs": [],
   "source": [
    "for index, row in files[files.Type == \".rst\"].iterrows():\n",
    "    out_path = os.path.join(folder_path, row[\"Folder\"].strip(), os.path.splitext(row[\"File\"].strip())[0] + \".out\")\n",
    "    ans_path = os.path.join(folder_path, row[\"Folder\"].strip(), os.path.splitext(row[\"File\"].strip())[0] + \".ans\")\n",
    "    if os.path.isfile(out_path):\n",
    "        files.loc[index, \"RunTime\"] = runtime(out_path)\n",
    "    if os.path.isfile(ans_path):\n",
    "        files.loc[index, \"AnsFile\"] = True\n",
    "    else:\n",
    "        files.loc[index, \"AnsFile\"] = False"
   ]
  },
  {
   "cell_type": "code",
   "execution_count": null,
   "metadata": {},
   "outputs": [],
   "source": [
    "shout(\"Files which will take less than an hour to run\")\n",
    "shout(\"*AnsFile status will tell if the corresponding ansys run script is available or not\", size=\"h3\")\n",
    "files.loc[files.RunTime < 3600, [\"Size\", \"RunTime\", \"AnsFile\", \"Folder\", \"File\"]].nlargest(50, \"Size\")"
   ]
  },
  {
   "cell_type": "code",
   "execution_count": null,
   "metadata": {
    "collapsed": true
   },
   "outputs": [],
   "source": []
  }
 ],
 "metadata": {
  "kernelspec": {
   "display_name": "Python 3",
   "language": "python",
   "name": "python3"
  },
  "language_info": {
   "codemirror_mode": {
    "name": "ipython",
    "version": 3
   },
   "file_extension": ".py",
   "mimetype": "text/x-python",
   "name": "python",
   "nbconvert_exporter": "python",
   "pygments_lexer": "ipython3",
   "version": "3.6.1"
  }
 },
 "nbformat": 4,
 "nbformat_minor": 2
}
